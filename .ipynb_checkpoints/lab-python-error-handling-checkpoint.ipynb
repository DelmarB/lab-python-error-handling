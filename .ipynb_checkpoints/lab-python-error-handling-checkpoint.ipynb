{
 "cells": [
  {
   "cell_type": "markdown",
   "id": "25d7736c-ba17-4aff-b6bb-66eba20fbf4e",
   "metadata": {},
   "source": [
    "# Lab | Error Handling"
   ]
  },
  {
   "cell_type": "markdown",
   "id": "bc99b386-7508-47a0-bcdb-d969deaf6c8b",
   "metadata": {},
   "source": [
    "## Exercise: Error Handling for Managing Customer Orders\n",
    "\n",
    "The implementation of your code for managing customer orders assumes that the user will always enter a valid input. \n",
    "\n",
    "For example, we could modify the `initialize_inventory` function to include error handling.\n",
    "   - If the user enters an invalid quantity (e.g., a negative value or a non-numeric value), display an error message and ask them to re-enter the quantity for that product.\n",
    "   - Use a try-except block to handle the error and continue prompting the user until a valid quantity is entered.\n",
    "\n",
    "```python\n",
    "# Step 1: Define the function for initializing the inventory with error handling\n",
    "def initialize_inventory(products):\n",
    "    inventory = {}\n",
    "    for product in products:\n",
    "        valid_quantity = False\n",
    "        while not valid_quantity:\n",
    "            try:\n",
    "                quantity = int(input(f\"Enter the quantity of {product}s available: \"))\n",
    "                if quantity < 0:\n",
    "                    raise ValueError(\"Invalid quantity! Please enter a non-negative value.\")\n",
    "                valid_quantity = True\n",
    "            except ValueError as error:\n",
    "                print(f\"Error: {error}\")\n",
    "        inventory[product] = quantity\n",
    "    return inventory\n",
    "\n",
    "# Or, in another way:\n",
    "\n",
    "def initialize_inventory(products):\n",
    "    inventory = {}\n",
    "    for product in products:\n",
    "        valid_input = False\n",
    "        while not valid_input:\n",
    "            try:\n",
    "                quantity = int(input(f\"Enter the quantity of {product}s available: \"))\n",
    "                if quantity >= 0:\n",
    "                    inventory[product] = quantity\n",
    "                    valid_input = True\n",
    "                else:\n",
    "                    print(\"Quantity cannot be negative. Please enter a valid quantity.\")\n",
    "            except ValueError:\n",
    "                print(\"Invalid input. Please enter a valid quantity.\")\n",
    "    return inventory\n",
    "```\n",
    "\n",
    "Let's enhance your code by implementing error handling to handle invalid inputs.\n",
    "\n",
    "Follow the steps below to complete the exercise:\n",
    "\n",
    "2. Modify the `calculate_total_price` function to include error handling.\n",
    "   - If the user enters an invalid price (e.g., a negative value or a non-numeric value), display an error message and ask them to re-enter the price for that product.\n",
    "   - Use a try-except block to handle the error and continue prompting the user until a valid price is entered.\n",
    "\n",
    "3. Modify the `get_customer_orders` function to include error handling.\n",
    "   - If the user enters an invalid number of orders (e.g., a negative value or a non-numeric value), display an error message and ask them to re-enter the number of orders.\n",
    "   - If the user enters an invalid product name (e.g., a product name that is not in the inventory), or that doesn't have stock available, display an error message and ask them to re-enter the product name. *Hint: you will need to pass inventory as a parameter*\n",
    "   - Use a try-except block to handle the error and continue prompting the user until a valid product name is entered.\n",
    "\n",
    "4. Test your code by running the program and deliberately entering invalid quantities and product names. Make sure the error handling mechanism works as expected.\n"
   ]
  },
  {
   "cell_type": "code",
   "execution_count": 1,
   "id": "55b0508a-cabf-4195-b47f-b599b16bd0e8",
   "metadata": {
    "scrolled": true
   },
   "outputs": [
    {
     "name": "stdin",
     "output_type": "stream",
     "text": [
      "Add an amount for t-shirt:  5\n",
      "Add an amount for mug:  5\n",
      "Add an amount for hat:  5\n",
      "Add an amount for book:  5\n",
      "Add an amount for keychain:  5\n"
     ]
    },
    {
     "name": "stdout",
     "output_type": "stream",
     "text": [
      "{'t-shirt': 5, 'mug': 5, 'hat': 5, 'book': 5, 'keychain': 5}\n"
     ]
    }
   ],
   "source": [
    "# 1\n",
    "products = [\"t-shirt\", \"mug\", \"hat\", \"book\", \"keychain\"]\n",
    "\n",
    "def initialize_inventory(products):\n",
    "    inventory = {}\n",
    "    for prod in products:\n",
    "        valid_input = False\n",
    "        while not valid_input:\n",
    "            try:\n",
    "                amount = int(input(f\"Add an amount for {prod}: \"))\n",
    "                if amount >=0:\n",
    "                    inventory[prod] = amount\n",
    "                    valid_input = True\n",
    "                else:\n",
    "                    print(\"Quantity cannot be negative. Please enter a valid quantity\")\n",
    "            except ValueError:\n",
    "                print(\"Invalid input. Please enter a valid quantity\")\n",
    "    return inventory\n",
    "\n",
    "inventory = initialize_inventory(products)\n",
    "print(inventory)"
   ]
  },
  {
   "cell_type": "code",
   "execution_count": 5,
   "id": "4b9228d5-f9c4-48c6-a0e3-d633d2a4dacd",
   "metadata": {
    "scrolled": true
   },
   "outputs": [
    {
     "name": "stdin",
     "output_type": "stream",
     "text": [
      "Enter the number of products to order:  3\n",
      "Enter product #1 (t-shirt, mug, hat, book, or keychain):  mug\n",
      "Enter product #2 (t-shirt, mug, hat, book, or keychain):  hat\n",
      "Enter product #3 (t-shirt, mug, hat, book, or keychain):  book\n"
     ]
    },
    {
     "name": "stdout",
     "output_type": "stream",
     "text": [
      "['mug', 'hat', 'book']\n"
     ]
    }
   ],
   "source": [
    "#2\n",
    "\n",
    "def get_customer_orders():\n",
    "    # Prompt the user to enter the number of products\n",
    "    try:\n",
    "        num_orders = int(input(\"Enter the number of products to order: \"))\n",
    "    except ValueError:\n",
    "        print(\"Please enter the number of products as a number, e.g. 1, 2, 3\")\n",
    "        return []  # Return empty list if input is invalid\n",
    "\n",
    "    # Use a list to store the orders\n",
    "    customer_orders = []\n",
    "\n",
    "    for i in range(num_orders):\n",
    "        product = input(f\"Enter product #{i + 1} (t-shirt, mug, hat, book, or keychain): \").lower()\n",
    "\n",
    "        # Validate the input\n",
    "        valid_products = [\"t-shirt\", \"mug\", \"hat\", \"book\", \"keychain\"]\n",
    "        if product not in valid_products:\n",
    "            print(f\"Invalid product '{product}'. Please choose from the list.\")\n",
    "            return []  # Return empty list if input is invalid\n",
    "\n",
    "        customer_orders.append(product)\n",
    "\n",
    "    return customer_orders\n",
    "    \n",
    "order_entered = get_customer_orders()\n",
    "print(order_entered)"
   ]
  },
  {
   "cell_type": "code",
   "execution_count": 8,
   "id": "282482ac-4157-409c-8285-4a48dcf79410",
   "metadata": {},
   "outputs": [
    {
     "name": "stdin",
     "output_type": "stream",
     "text": [
      "Enter the number of products to order:  3\n",
      "Enter product #1 (t-shirt, mug, hat, book, or keychain):  mug\n",
      "Enter product #2 (t-shirt, mug, hat, book, or keychain):  hat\n",
      "Enter product #3 (t-shirt, mug, hat, book, or keychain):  book\n",
      "Enter price for mug:  2\n",
      "Enter price for hat:  3\n",
      "Enter price for book:  5\n"
     ]
    },
    {
     "name": "stdout",
     "output_type": "stream",
     "text": [
      "Total price: €10.00\n"
     ]
    }
   ],
   "source": [
    "#3\n",
    "def product_prices():\n",
    "    prod_and_prices = {}\n",
    "    #prompt for prices as per customer_order\n",
    "    for product in customer_order:\n",
    "        valid_input = False\n",
    "        while not valid_input:\n",
    "            try:\n",
    "                entry = input(f\"Enter price for {product}: \")\n",
    "                price = float(entry)\n",
    "                if price >=0:\n",
    "                    prod_and_prices[product] = price\n",
    "                    valid_input = True\n",
    "                else:\n",
    "                    print(\"Price cannot be a negative number\")\n",
    "            except ValueError:    \n",
    "                print(\"Enter valid price more than 0.00\")\n",
    "    total = sum(prod_and_prices.values())  \n",
    "    return total\n",
    "\n",
    "# Ensure customer_order is defined before calling\n",
    "customer_order = get_customer_orders()\n",
    "total = product_prices()\n",
    "print(f\"Total price: €{total:.2f}\")"
   ]
  },
  {
   "cell_type": "code",
   "execution_count": 9,
   "id": "86321a01-e81c-40eb-95e2-b4de14f7d2fe",
   "metadata": {},
   "outputs": [],
   "source": [
    "#\n",
    "def update_inventory():\n",
    "    new_inventory = {\n",
    "        prod: (inventory[prod] - 1) if prod in customer_order else inventory[prod]\n",
    "        for prod in inventory\n",
    "        if prod not in customer_order or (inventory[prod] - 1) > 0\n",
    "    }\n",
    "    return new_inventory\n",
    "\n",
    "#print(update_inventory())"
   ]
  },
  {
   "cell_type": "code",
   "execution_count": 10,
   "id": "b8168b6b-89e2-4ff0-a380-73a79bddb3dd",
   "metadata": {},
   "outputs": [],
   "source": [
    "#4\n",
    "def calculate_order_statistics():\n",
    "    Total_Products_ordered = len(customer_order)\n",
    "    Percentage_of_Products_Ordered = (Total_Products_ordered / 5) * 100\n",
    "    order_status = (Total_Products_ordered, Percentage_of_Products_Ordered)\n",
    "    return order_status\n",
    "new_statistics = calculate_order_statistics()\n",
    "#print(new_statistics)"
   ]
  },
  {
   "cell_type": "code",
   "execution_count": 11,
   "id": "5f88ac3a-0dc1-42db-a2e9-f68fd6d4159e",
   "metadata": {
    "scrolled": true
   },
   "outputs": [
    {
     "name": "stdout",
     "output_type": "stream",
     "text": [
      "Orders Statistics:\n",
      "Total Products Ordered: 3\n",
      "Percentage of Products Ordered: 60.0 %\n"
     ]
    }
   ],
   "source": [
    "#5\n",
    "def print_order_statistics():\n",
    "    print(\"Orders Statistics:\")\n",
    "    print(f\"Total Products Ordered: {new_statistics[0]}\")\n",
    "    print(f\"Percentage of Products Ordered: {new_statistics[1]} %\")\n",
    "print_order_statistics()\n"
   ]
  },
  {
   "cell_type": "code",
   "execution_count": 12,
   "id": "5276d05f-d4f5-4eee-aa96-fa6c22886165",
   "metadata": {
    "scrolled": true
   },
   "outputs": [
    {
     "name": "stdout",
     "output_type": "stream",
     "text": [
      "Updated inventory\n",
      "t-shirt: 5\n",
      "mug: 4\n",
      "hat: 4\n",
      "book: 4\n",
      "keychain: 5\n"
     ]
    }
   ],
   "source": [
    "#6\n",
    "def print_updated_inventory():\n",
    "    for key, value in update_inventory().items():\n",
    "        print(f\"{key}: {value}\")\n",
    "print(\"Updated inventory\")\n",
    "print_updated_inventory()"
   ]
  },
  {
   "cell_type": "code",
   "execution_count": 13,
   "id": "1f84ff32-4182-43a2-9836-c0cea3ed3063",
   "metadata": {},
   "outputs": [
    {
     "name": "stdout",
     "output_type": "stream",
     "text": [
      "Total price: €10.00\n"
     ]
    }
   ],
   "source": [
    "print(f\"Total price: €{total:.2f}\")"
   ]
  }
 ],
 "metadata": {
  "kernelspec": {
   "display_name": "Python 3 (ipykernel)",
   "language": "python",
   "name": "python3"
  },
  "language_info": {
   "codemirror_mode": {
    "name": "ipython",
    "version": 3
   },
   "file_extension": ".py",
   "mimetype": "text/x-python",
   "name": "python",
   "nbconvert_exporter": "python",
   "pygments_lexer": "ipython3",
   "version": "3.12.7"
  }
 },
 "nbformat": 4,
 "nbformat_minor": 5
}
